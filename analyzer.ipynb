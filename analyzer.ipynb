{
 "cells": [
  {
   "cell_type": "markdown",
   "id": "e550d7c6",
   "metadata": {},
   "source": [
    "### Imports"
   ]
  },
  {
   "cell_type": "code",
   "execution_count": null,
   "id": "c57b0e42",
   "metadata": {},
   "outputs": [],
   "source": [
    "import os\n",
    "import pandas as pd\n",
    "import numpy as np\n",
    "from matplotlib import pyplot as plt"
   ]
  },
  {
   "cell_type": "markdown",
   "id": "a62fd2f7",
   "metadata": {},
   "source": [
    "### Getting opinions about product from database"
   ]
  },
  {
   "cell_type": "code",
   "execution_count": null,
   "id": "6cd6a50b",
   "metadata": {},
   "outputs": [],
   "source": [
    "print(*[filename.split('.')[0] for filename in os.listdir('./opinions')], sep='\\n')"
   ]
  },
  {
   "cell_type": "code",
   "execution_count": null,
   "id": "10de7a7d",
   "metadata": {},
   "outputs": [],
   "source": [
    "product_id=input('Enter the product ID: ')"
   ]
  },
  {
   "cell_type": "code",
   "execution_count": null,
   "id": "b7e55cb9",
   "metadata": {},
   "outputs": [],
   "source": [
    "opinions = pd.read_json(f'./opinions/{product_id}.json')\n",
    "opinions"
   ]
  },
  {
   "cell_type": "markdown",
   "id": "d2915754",
   "metadata": {},
   "source": [
    "### Calculating basics statistics"
   ]
  },
  {
   "cell_type": "code",
   "execution_count": null,
   "id": "46a0acab",
   "metadata": {},
   "outputs": [],
   "source": [
    "opinions_count = opinions.shape[0]\n",
    "average_stars = opinions.stars.mean()\n",
    "pros_count = opinions.pros_pl.astype(bool).sum()\n",
    "cons_count = opinions.cons_pl.astype(bool).sum()\n",
    "pros_cons_count = opinions.apply(lambda o: bool(o.pros_pl) and bool(o.cons_pl), axis=1).sum()\n",
    "print(f'Number of opinions about the product: {opinions_count}')\n",
    "print(f'Average stars: {average_stars:.2f}')\n",
    "print(f'Number of opinions in which advantages have been listed: {pros_count}')\n",
    "print(f'Number of opinions in which disatvantages have been listed: {cons_count}')\n",
    "print(f'Number of opinions in which both advantages and disadvantages have been listed: {pros_cons_count}')"
   ]
  },
  {
   "cell_type": "code",
   "execution_count": null,
   "id": "b848b424",
   "metadata": {},
   "outputs": [],
   "source": [
    "pros = opinions.pros_en.explode().value_counts()\n",
    "cons = opinions.cons_en.explode().value_counts()\n",
    "print(pros)\n",
    "print(cons)"
   ]
  },
  {
   "cell_type": "markdown",
   "id": "9f21adb7",
   "metadata": {},
   "source": [
    "### Drawing charts"
   ]
  },
  {
   "cell_type": "code",
   "execution_count": null,
   "id": "450ca3da",
   "metadata": {},
   "outputs": [],
   "source": [
    "if not os.path.exists(\"./pie_charts\"):\n",
    "    os.mkdir(\"./pie_charts\")\n",
    "if not os.path.exists(\"./bar_charts\"):\n",
    "    os.mkdir(\"./bar_charts\")"
   ]
  },
  {
   "cell_type": "code",
   "execution_count": null,
   "id": "ae3e521c",
   "metadata": {},
   "outputs": [],
   "source": [
    "recomendations = opinions.recommend.value_counts(dropna=False).reindex([True, False, np.nan], fill_value=0)\n",
    "recomendations"
   ]
  },
  {
   "cell_type": "code",
   "execution_count": null,
   "id": "f4fd1514",
   "metadata": {},
   "outputs": [],
   "source": [
    "recomendations.plot.pie(\n",
    "    label = \"\",\n",
    "    labels = [\"Recommend\", \"Not recommend\", \"No opinion\"],\n",
    "    colors = ['forestgreen', 'crimson', 'steelblue'],\n",
    "    autopct = lambda r: f\"{r:.1f}%\" if r>0 else \"\"\n",
    ")\n",
    "plt.title(f\"Recommendations for product: {product_id}\\nTotal number of opinions: {opinions_count}\")\n",
    "plt.savefig(f\"./pie_charts/{product_id}.png\")\n",
    "plt.close()"
   ]
  },
  {
   "cell_type": "code",
   "execution_count": null,
   "id": "652cc738",
   "metadata": {},
   "outputs": [],
   "source": [
    "stars = opinions.stars.value_counts().reindex(list(np.arange(0.5,5.5,0.5)), fill_value=0)\n",
    "stars"
   ]
  },
  {
   "cell_type": "code",
   "execution_count": null,
   "id": "eb286676",
   "metadata": {},
   "outputs": [],
   "source": [
    "plt.figure(figsize=(7,6))\n",
    "ax = stars.plot.bar(\n",
    "    color = [\"forestgreen\" if s>3.5 else \"crimson\" if s<3 else \"steelblue\" for s in stars.index]\n",
    ")\n",
    "plt.bar_label(container=ax.containers[0])\n",
    "plt.xlabel(\"Number of stars\")\n",
    "plt.ylabel(\"Number of opinions\")\n",
    "plt.title(f\"Number of opinions about product {product_id}\\nwith particular number of stars\\nTotal number of opinions: {opinions_count}\")\n",
    "plt.xticks(rotation=0)\n",
    "plt.savefig(f\"./bar_charts/{product_id}.png\")\n",
    "plt.close()"
   ]
  }
 ],
 "metadata": {
  "kernelspec": {
   "display_name": ".venv",
   "language": "python",
   "name": "python3"
  },
  "language_info": {
   "codemirror_mode": {
    "name": "ipython",
    "version": 3
   },
   "file_extension": ".py",
   "mimetype": "text/x-python",
   "name": "python",
   "nbconvert_exporter": "python",
   "pygments_lexer": "ipython3",
   "version": "3.13.0"
  }
 },
 "nbformat": 4,
 "nbformat_minor": 5
}
