{
 "cells": [
  {
   "cell_type": "markdown",
   "id": "e550d7c6",
   "metadata": {},
   "source": [
    "### Imports"
   ]
  },
  {
   "cell_type": "code",
   "execution_count": null,
   "id": "c57b0e42",
   "metadata": {},
   "outputs": [],
   "source": [
    "import os\n",
    "import pandas as pd\n",
    "import numpy as np\n",
    "from matplotlib import pyplot as plt"
   ]
  },
  {
   "cell_type": "markdown",
   "id": "a62fd2f7",
   "metadata": {},
   "source": [
    "### Getting opinions about product from database"
   ]
  },
  {
   "cell_type": "code",
   "execution_count": null,
   "id": "6cd6a50b",
   "metadata": {},
   "outputs": [],
   "source": [
    "print(*[filename.split('.')[0] for filename in os.listdir('./opinions')], sep='\\n')"
   ]
  },
  {
   "cell_type": "code",
   "execution_count": null,
   "id": "10de7a7d",
   "metadata": {},
   "outputs": [],
   "source": [
    "product_id=input('Enter the product ID: ')"
   ]
  },
  {
   "cell_type": "code",
   "execution_count": null,
   "id": "b7e55cb9",
   "metadata": {},
   "outputs": [],
   "source": [
    "opinions = pd.read_json(f'./opinions/{product_id}.json')\n",
    "opinions"
   ]
  },
  {
   "cell_type": "markdown",
   "id": "d2915754",
   "metadata": {},
   "source": [
    "### Calculating basics statistics"
   ]
  },
  {
   "cell_type": "code",
   "execution_count": null,
   "id": "46a0acab",
   "metadata": {},
   "outputs": [],
   "source": [
    "opinions_count = opinions.shape[0]\n",
    "average_stars = opinions.stars.mean()\n",
    "pros_count = opinions.pros_pl.astype(bool).sum()\n",
    "cons_count = opinions.cons_pl.astype(bool).sum()\n",
    "pros_cons_count = opinions.apply(lambda o: bool(o.pros_pl) and bool(o.cons_pl), axis=1).sum()\n",
    "print(f'Number of opinions about the product: {opinions_count}')\n",
    "print(f'Average stars: {average_stars:.2f}')\n",
    "print(f'Number of opinions in which advantages have been listed: {pros_count}')\n",
    "print(f'Number of opinions in which disatvantages have been listed: {cons_count}')\n",
    "print(f'Number of opinions in which both advantages and disadvantages have been listed: {pros_cons_count}')"
   ]
  },
  {
   "cell_type": "code",
   "execution_count": null,
   "id": "b848b424",
   "metadata": {},
   "outputs": [],
   "source": [
    "pros = opinions.pros_en.explode().value_counts()\n",
    "cons = opinions.cons_en.explode().value_counts()\n",
    "print(pros)\n",
    "print(cons)"
   ]
  },
  {
   "cell_type": "code",
   "execution_count": null,
   "id": "3d4a908d",
   "metadata": {},
   "outputs": [],
   "source": []
  },
  {
   "cell_type": "markdown",
   "id": "9f21adb7",
   "metadata": {},
   "source": [
    "### Drawing charts"
   ]
  }
 ],
 "metadata": {
  "kernelspec": {
   "display_name": ".venv",
   "language": "python",
   "name": "python3"
  },
  "language_info": {
   "codemirror_mode": {
    "name": "ipython",
    "version": 3
   },
   "file_extension": ".py",
   "mimetype": "text/x-python",
   "name": "python",
   "nbconvert_exporter": "python",
   "pygments_lexer": "ipython3",
   "version": "3.13.0"
  }
 },
 "nbformat": 4,
 "nbformat_minor": 5
}
